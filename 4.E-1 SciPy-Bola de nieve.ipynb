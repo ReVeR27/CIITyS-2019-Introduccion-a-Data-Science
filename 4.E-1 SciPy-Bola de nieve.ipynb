{
 "cells": [
  {
   "cell_type": "code",
   "execution_count": 2,
   "metadata": {},
   "outputs": [
    {
     "name": "stdout",
     "output_type": "stream",
     "text": [
      "Optimization terminated successfully.\n",
      "         Current function value: 0.000000\n",
      "         Iterations: 7\n",
      "         Function evaluations: 27\n",
      "         Gradient evaluations: 9\n",
      "Masa Inicial: 46.51960081990304 kg (93.96959365620414 lbs)\n",
      "Radio inicial: 31.658702268498264 cm (12.464031083107765 in)\n",
      "Fuerza final: 22345.75552415337\n",
      "Posición final: 219.47582030729566\n",
      "Velocidad final: 14.136581790176962\n"
     ]
    },
    {
     "data": {
      "text/plain": [
       "<matplotlib.legend.Legend at 0x256ad7f6e80>"
      ]
     },
     "execution_count": 2,
     "metadata": {},
     "output_type": "execute_result"
    },
    {
     "data": {
      "image/png": "[encoded data removed]",
      "text/plain": [
       "<Figure size 432x288 with 1 Axes>"
      ]
     },
     "metadata": {
      "needs_background": "light"
     },
     "output_type": "display_data"
    }
   ],
   "source": [
    "import numpy as np # \n",
    "from scipy.integrate import odeint # Integración\n",
    "from scipy.optimize import minimize # Optimización\n",
    "import matplotlib.pyplot as plt # Graficación\n",
    "\n",
    "# Definimos los parámetros del sistema\n",
    "K0 = 85 # factor de crecimiento 1\n",
    "beta = 0.07 # factor de crecimiento 2\n",
    "C_d = 0.3 # Coeficiente de arrastre\n",
    "g = 9.8 # Gravedad\n",
    "rho = 350 # Densidad de la nieve\n",
    "theta = np.radians(5) # Pendiente\n",
    "rho_a = 0.9 # Densidad del aire\n",
    "\n",
    "# Condiciones iniciales de la bola de nieve\n",
    "m0 = 10 # masa inicial\n",
    "v0 = 0 # Velocidad inicial\n",
    "r0 = (m0/(4/3.0*np.pi*rho))**(1/3.0) # Radio inicial\n",
    "s0 = 0 # Posición inicial\n",
    "\n",
    "# Fuerza deseada\n",
    "F_d = 25000\n",
    "\n",
    "# establecemos un intervalo de tiempo par resolver en 30 segundos\n",
    "t = np.linspace(0,30)\n",
    "\n",
    "# Esta funcion define las dinamicas de la bola de nieve, la ecuación de movimiento\n",
    "# y la razon con la que cambias el radio y la masa.\n",
    "def snowball_dynamics(w,t,p):\n",
    "    \n",
    "    # separamos las variables de estado\n",
    "    M,r,s,v = w\n",
    "    \n",
    "    # separamos los parametros\n",
    "    K0,C_d,g,rho,theta,rho_a,beta = p\n",
    "    \n",
    "    # Creamos un arreglo de las cuatro ecuaciones diferenciales definidas en nuestro modelo.\n",
    "    f = [beta * K0 * np.exp(-beta*t),\n",
    "         (beta * K0 * np.exp(-beta*t))/(4*np.pi*rho*r**2),\n",
    "         v,\n",
    "         (-15*rho_a*C_d)/(56*rho)*1/r*v**2 - 23/7*1/r*beta*K0*np.exp(-beta*t)/(4*np.pi*rho*r**2)*v+5/7*g*np.sin(theta)]\n",
    "    return f\n",
    "\n",
    "# Esta es la funcion objetivo de la optimización. \n",
    "# Intentará minimizar la salida de esta función cambiando la masa inicial de la bola de nieve.\n",
    "def objective(m0):\n",
    "    \n",
    "    #Cargar parametros\n",
    "    p = [K0,C_d,g,rho,theta,rho_a,beta]\n",
    "    \n",
    "    # Obtenemos el radio inicial a partir de la masa inicial\n",
    "    r0 = (m0/(4/3.0*np.pi*rho))**(1/3.0)\n",
    "    \n",
    "    # Establecemos valores inciales\n",
    "    w0 = [m0,r0,s0,v0]\n",
    "    \n",
    "    # Integramos para 30 segundos\n",
    "    sol = odeint(snowball_dynamics,w0,t,args=(p,))\n",
    "    \n",
    "    # Calculamos la energia cinetica al finalizar la integración\n",
    "    ke = 0.5 * sol[:,0][-1] * sol[:,3][-1]**2\n",
    "\n",
    "    # Calculamos la fuerza requerida para detener la bola de nieve dado su radio\n",
    "    F = ke / sol[:,1][-1]\n",
    "    \n",
    "    # Comparamos con la fuerza deseada: Esto debe ser igual a zero cuando hayamos terminado.\n",
    "    obj = (F - F_d)**2\n",
    "    \n",
    "    return obj\n",
    "\n",
    "# Optimizamos usando las funciones definidas anteriormente\n",
    "res = minimize(objective,m0,options={'disp':True})  \n",
    "\n",
    "# Obtenemos la masa inicial optima de la solución anterior\n",
    "m0_opt = res.x[0]\n",
    "\n",
    "# Calculamos el radio optimo inicial a partir de la masa\n",
    "r0_opt = (m0_opt/(4/3.0*np.pi*rho))**(1/3.0)\n",
    "\n",
    "print('Masa Inicial: ' + str(m0_opt) + ' kg (' + str(m0_opt*2.02) + ' lbs)')\n",
    "print('Radio inicial: ' + str(r0_opt*100) + ' cm (' + str(r0_opt*39.37) + ' in)')\n",
    "\n",
    "# Solo para segurarnos que es la respuesta correcta\n",
    "# Calculamos la fuerza final utilizando las condiciones iniciales optimizadas\n",
    "\n",
    "# Establecemos condiciones iniciales\n",
    "w0 = [m0_opt,r0_opt,s0,v0]\n",
    "\n",
    "# Cargamos los parametros\n",
    "p = [m0_opt,C_d,g,rho,theta,rho_a,beta]\n",
    "\n",
    "# Integramos\n",
    "sol = odeint(snowball_dynamics,w0,t,args=(p,))\n",
    "\n",
    "# Obtenemos la energia cinetica\n",
    "ke = 0.5 * sol[:,0][-1] * sol[:,3][-1]**2\n",
    "\n",
    "# Obtenemos la fuerza final \n",
    "F = ke / sol[:,1][-1]\n",
    "print('Fuerza final: ' + str(F))\n",
    "\n",
    "# Posición final\n",
    "print('Posición final: ' + str(sol[:,2][-1]))\n",
    "print('Velocidad final: ' + str(sol[:,3][-1]))\n",
    "\n",
    "# Y unas f¿graficas de las condiciones de la bola de nieve a lo largo del experimento\n",
    "plt.figure()\n",
    "plt.plot(t,sol[:,0],label='Masa')\n",
    "plt.plot(t,sol[:,1],label='Radio')\n",
    "plt.plot(t,sol[:,2],label='Posición')\n",
    "plt.plot(t,sol[:,3],label='Velocidad')\n",
    "plt.title('Bola de nieve')\n",
    "plt.xlabel('Tiempo')\n",
    "plt.legend()"
   ]
  }
 ],
 "metadata": {
  "kernelspec": {
   "display_name": "Python 3",
   "language": "python",
   "name": "python3"
  },
  "language_info": {
   "codemirror_mode": {
    "name": "ipython",
    "version": 3
   },
   "file_extension": ".py",
   "mimetype": "text/x-python",
   "name": "python",
   "nbconvert_exporter": "python",
   "pygments_lexer": "ipython3",
   "version": "3.7.3"
  }
 },
 "nbformat": 4,
 "nbformat_minor": 2
}
