{
 "cells": [
  {
   "cell_type": "code",
   "execution_count": 1,
   "metadata": {},
   "outputs": [
    {
     "name": "stdout",
     "output_type": "stream",
     "text": [
      "Optimization terminated successfully.    (Exit mode 0)\n",
      "            Current function value: -3.0429027207241885\n",
      "            Iterations: 6\n",
      "            Function evaluations: 30\n",
      "            Gradient evaluations: 6\n",
      "largo:  1.8257716048676622\n",
      "ancho:  1.8257715901201033\n",
      "alto:  0.912841077804214\n",
      "volumen:  3.0429027207241885\n",
      "Area de la superficie:  9.999999177737914\n"
     ]
    }
   ],
   "source": [
    "import numpy as np\n",
    "from scipy.optimize import minimize\n",
    "\n",
    "#Definimos la función para calcular el volumen de la caja\n",
    "def calcVolumen(x):\n",
    "\tlargo=x[0]\n",
    "\tancho=x[1]\n",
    "\talto=x[2]\n",
    "\tvolumen=largo*ancho*alto\n",
    "\treturn volumen\n",
    "\n",
    "#Definimos la función para calcular el área de la superficie de la caja\n",
    "def calcArea(x):\n",
    "\tlargo=x[0]\n",
    "\tancho=x[1]\n",
    "\talto=x[2]\n",
    "\tareaSup=(largo*ancho)+2*(largo*alto)+2*(ancho*alto)\n",
    "\treturn areaSup\n",
    "\n",
    "#Definimos la función para optimizar\n",
    "def objetivo(x):\n",
    "\treturn -calcVolumen(x)\n",
    "\n",
    "#Agregamos las restricciones de la optimización\n",
    "def restriccion(x):\n",
    "\treturn 10-calcArea(x)\n",
    "\n",
    "rest=({'type': 'ineq', 'fun':restriccion})\n",
    "\n",
    "#Establecemos valores iniciales para las dimensiones de la caja\n",
    "largoInic=1\n",
    "anchoInic=1\n",
    "altoInic=1\n",
    "\n",
    "#Agregamos los valores iniciales a un arreglo de NumPy para construir la variable x\n",
    "x0= np.array([largoInic,anchoInic,altoInic])\n",
    "\n",
    "#utilizamos la función minimize de SciPy para minimizar la funcón objetivo con las resticciones dadas\n",
    "sol=minimize(objetivo,x0,method='SLSQP',constraints=rest,options={'disp':True})\n",
    "\n",
    "#Recuperamos las medidas optimizadas y el volumen de la caja\n",
    "xOpt=sol.x\n",
    "volumenOpt=sol.fun\n",
    "\n",
    "#Calculamos el area de la superficie con los valores optimizados sólo para asegurarnos\n",
    "areaOpt=calcArea(xOpt)\n",
    "\n",
    "#Imprimimos resultados\n",
    "print('largo: ',str(xOpt[0]))\n",
    "print('ancho: ',str(xOpt[1]))\n",
    "print('alto: ',str(xOpt[2]))\n",
    "print('volumen: ',str(-volumenOpt))\n",
    "print('Area de la superficie: ',str(areaOpt))\n"
   ]
  }
 ],
 "metadata": {
  "kernelspec": {
   "display_name": "Python 3",
   "language": "python",
   "name": "python3"
  },
  "language_info": {
   "codemirror_mode": {
    "name": "ipython",
    "version": 3
   },
   "file_extension": ".py",
   "mimetype": "text/x-python",
   "name": "python",
   "nbconvert_exporter": "python",
   "pygments_lexer": "ipython3",
   "version": "3.7.3"
  }
 },
 "nbformat": 4,
 "nbformat_minor": 2
}
